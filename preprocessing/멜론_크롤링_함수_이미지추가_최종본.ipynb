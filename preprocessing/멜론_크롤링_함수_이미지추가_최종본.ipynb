{
 "cells": [
  {
   "cell_type": "code",
   "execution_count": null,
   "id": "7d4b1ce0",
   "metadata": {
    "id": "7d4b1ce0"
   },
   "outputs": [],
   "source": [
    "from tqdm import tqdm\n",
    "from selenium import webdriver\n",
    "from selenium.webdriver.chrome.options import Options\n",
    "from selenium.webdriver.common.keys import Keys\n",
    "import time\n",
    "import requests\n",
    "import urllib.request\n",
    "from bs4 import BeautifulSoup\n",
    "import pandas as pd\n",
    "import numpy as np"
   ]
  },
  {
   "cell_type": "code",
   "execution_count": null,
   "id": "d2f8863d",
   "metadata": {
    "id": "d2f8863d",
    "scrolled": true
   },
   "outputs": [],
   "source": [
    "chrome_driver = ChromeDriverManager().install() # 크롬 드라이버 버전 변경 시 자동 설치\n",
    "\n",
    "# chrome_driver = ChromeDriverManager(version=\"114.0.5735.90\").install()"
   ]
  },
  {
   "cell_type": "markdown",
   "id": "c0754254",
   "metadata": {
    "id": "c0754254"
   },
   "source": [
    "# 페이지 선택해서 크롤링하는 함수(이미지 포함)"
   ]
  },
  {
   "cell_type": "code",
   "execution_count": null,
   "id": "c840e20f",
   "metadata": {
    "id": "c840e20f"
   },
   "outputs": [],
   "source": [
    "def crawling_melon_pg(search, num): # 오류 해결한 버전\n",
    "    label = input(\"label을 입력하세요: \")\n",
    "    \n",
    "    options = Options()\n",
    "    options.add_argument('headless')\n",
    "    options.add_argument('--start-maximized')\n",
    "    options.add_experimental_option('detach', True)\n",
    "    driver = webdriver.Chrome(options=options)\n",
    "    #Selenium_driver로 url 접속\n",
    "    url = \"https://www.melon.com/dj/themegenre/djthemegenre_list.htm\" # 멜론 테마 장르 url\n",
    "    driver.get(url)\n",
    "    #Selenium_접속하는 데 시간이 걸릴 수 있으므로 1초 기다림\n",
    "    time.sleep(1)\n",
    "    #Selenium x_path\n",
    "    x_path = '//*[@id=\"djSearchKeyword\"]' # 태그 검색 박스\n",
    "    searchbox = driver.find_element_by_xpath(x_path)\n",
    "    #버튼 클릭\n",
    "    searchbox.click()\n",
    "    #키워드 입력\n",
    "    searchbox.send_keys(search)\n",
    "    #버튼 클릭\n",
    "    searchbox.send_keys(Keys.ENTER)\n",
    "\n",
    "\n",
    "    title_list = []\n",
    "    artitst_list = []\n",
    "    likes_list = []\n",
    "    album_image_link_list = []\n",
    "    tag_list = []\n",
    "\n",
    "    title_error_list = []\n",
    "    artist_error_list = []\n",
    "\n",
    "    for i in tqdm(range(num)):\n",
    "        elements = driver.find_elements_by_class_name('thumb')\n",
    "        for idx in range(len(elements)):\n",
    "            es = driver.find_elements_by_class_name('thumb')\n",
    "            time.sleep(1)\n",
    "            es[idx].click()\n",
    "            # Selenium_위의 작업이 수행된 후 해당 접속 사이트 url 정보 가져옴(html)\n",
    "            time.sleep(1)\n",
    "            html = driver.page_source\n",
    "            soup = BeautifulSoup(html, 'html.parser')\n",
    "            titles_elem = soup.select('tbody > tr > td > div.wrap > div.wrap_song_info > div.ellipsis.rank01 > span > a')\n",
    "            artists_elem = soup.select('tbody > tr > td > div.wrap > div.wrap_song_info > div.ellipsis.rank02 > span')\n",
    "            likes_elem = soup.select('tbody > tr > td > div.wrap > button > span.cnt')\n",
    "            tag_elem = soup.select('div.entry > div.tag_list.type03 > a > span')\n",
    "            album_elem = soup.select('tbody > tr > td:nth-child(3) > div > a ')\n",
    "\n",
    "            tag_tmp = []\n",
    "            for tag in tag_elem:\n",
    "                tag_tmp.append(tag.text.split('#')[-1])\n",
    "            for likes in likes_elem:\n",
    "                likes_list.append(likes.text.split('\\n')[-1])\n",
    "            for title, artist, album in zip(titles_elem, artists_elem, album_elem):\n",
    "                if '/' in title.text:\n",
    "                    modified_title = title.text.replace('/', '%2F')\n",
    "                    title_error_list.append(title.text)\n",
    "                elif '\"' in title.text:\n",
    "                    modified_title = title.text.replace('\"', '%2F')\n",
    "                    title_error_list.append(title.text)\n",
    "                elif '?' in title.text:\n",
    "                    modified_title = title.text.replace('?', '%2F')\n",
    "                    title_error_list.append(title.text)\n",
    "                elif '*' in title.text:\n",
    "                    modified_title = title.text.replace('*', '%2F')\n",
    "                    title_error_list.append(title.text)\n",
    "                elif '<' in title.text:\n",
    "                    modified_title = title.text.replace('<', '%2F')\n",
    "                    title_error_list.append(title.text)\n",
    "                elif '>' in title.text:\n",
    "                    modified_title = title.text.replace('>', '%2F')\n",
    "                    title_error_list.append(title.text)\n",
    "                elif ':' in title.text:\n",
    "                    modified_title = title.text.replace(':', '%2F')\n",
    "                    title_error_list.append(title.text)\n",
    "                else:\n",
    "                    modified_title = title.text\n",
    "\n",
    "                if '/' in artist.text:\n",
    "                    modified_artist = artist.text.replace('/', '%2F')\n",
    "                    artist_error_list.append(artist.text)\n",
    "                elif '\"' in artist.text:\n",
    "                    modified_artist = artist.text.replace('\"', '%2F')\n",
    "                    artist_error_list.append(artist.text)\n",
    "                elif '?' in artist.text:\n",
    "                    modified_artist = artist.text.replace('?', '%2F')\n",
    "                    artist_error_list.append(artist.text)\n",
    "                elif '*' in artist.text:\n",
    "                    modified_artist = artist.text.replace('*', '%2F')\n",
    "                    artist_error_list.append(artist.text)\n",
    "                else:\n",
    "                    modified_artist = artist.text\n",
    "\n",
    "                title_list.append(modified_title)\n",
    "                tag_list.append(tag_tmp)\n",
    "                artitst_list.append(artist.text)\n",
    "\n",
    "                imgUrl = album.find('img')['src']\n",
    "                album_image_link_list.append(imgUrl)\n",
    "                #urlretrieve는 다운로드 함수\n",
    "                urllib.request.urlretrieve(imgUrl, '../image/'+label+'/'+search+'/'+modified_title+'_'+modified_artist+'.jpg')\n",
    "\n",
    "            driver.back()\n",
    "        time.sleep(1)\n",
    "        page_elem = driver.find_elements_by_class_name('paging > span > a')\n",
    "        try:\n",
    "            page_elem[i].click()\n",
    "            time.sleep(2)\n",
    "        except IndexError:\n",
    "            pass\n",
    "            time.sleep(1)\n",
    "\n",
    "    driver.close()\n",
    "    search_list = [search]*len(title_list)\n",
    "\n",
    "    df = pd.DataFrame({'title': title_list, 'artist': artitst_list, 'likes': likes_list,\n",
    "                       'tag': search_list, 'specific_tag': tag_list, 'image': album_image_link_list})\n",
    "    df['likes'] = df['likes'].str.replace(',', '').astype(int) # object타입을 int타입으로 변경\n",
    "    return df, title_error_list, artist_error_list"
   ]
  },
  {
   "cell_type": "markdown",
   "id": "09079b33",
   "metadata": {
    "id": "09079b33"
   },
   "source": [
    "# 데이터프레임 저장"
   ]
  },
  {
   "cell_type": "code",
   "execution_count": null,
   "id": "04739169",
   "metadata": {
    "id": "04739169"
   },
   "outputs": [],
   "source": [
    "#중복 행 지우기\n",
    "df_rain = df_rain.drop_duplicates(keep='first',subset='title', ignore_index=True)\n",
    "print(\"중복 제거 후 행 개수: \",len(df_rain))"
   ]
  },
  {
   "cell_type": "code",
   "execution_count": null,
   "id": "6b830a28",
   "metadata": {
    "id": "6b830a28"
   },
   "outputs": [],
   "source": [
    "#데이터 프레임 저장\n",
    "df_rain.to_csv('../output/{}.csv'.format('비오는날'),encoding='utf-8-sig',index=False)"
   ]
  },
  {
   "cell_type": "code",
   "execution_count": null,
   "id": "4796b359",
   "metadata": {
    "id": "4796b359"
   },
   "outputs": [],
   "source": [
    "# 데이터 프레임 불러오기\n",
    "df = pd.read_csv('../output/비오는날.csv')\n",
    "df"
   ]
  },
  {
   "cell_type": "markdown",
   "id": "503f6ba0",
   "metadata": {
    "id": "503f6ba0"
   },
   "source": [
    "### sunny"
   ]
  },
  {
   "cell_type": "code",
   "execution_count": null,
   "id": "d109e131",
   "metadata": {
    "id": "d109e131",
    "scrolled": false
   },
   "outputs": [],
   "source": [
    "df_sunny_1, title_error_sunny_1, artist_error_sunny_1 = crawling_melon_pg('맑은날', 3)"
   ]
  },
  {
   "cell_type": "code",
   "execution_count": null,
   "id": "ee2f64aa",
   "metadata": {
    "id": "ee2f64aa"
   },
   "outputs": [],
   "source": [
    "#데이터 프레임 저장\n",
    "df_sunny_1.to_csv('../output/{}.csv'.format('맑은날'),encoding='utf-8-sig',index=False)"
   ]
  },
  {
   "cell_type": "code",
   "execution_count": null,
   "id": "431a4255",
   "metadata": {
    "id": "431a4255",
    "scrolled": false
   },
   "outputs": [],
   "source": [
    "df_sunny_2, title_error_sunny_2, artist_error_sunny_2 = crawling_melon_pg('화창한날', 3)"
   ]
  },
  {
   "cell_type": "code",
   "execution_count": null,
   "id": "ee10ebe0",
   "metadata": {
    "id": "ee10ebe0"
   },
   "outputs": [],
   "source": [
    "#데이터 프레임 저장\n",
    "df_sunny_2.to_csv('../output/{}.csv'.format('화창한날'),encoding='utf-8-sig',index=False)"
   ]
  },
  {
   "cell_type": "code",
   "execution_count": null,
   "id": "42f22327",
   "metadata": {
    "id": "42f22327",
    "scrolled": true
   },
   "outputs": [],
   "source": [
    "df_sunny_3, title_error_sunny_3, artist_error_sunny_3 = crawling_melon_pg('여행', 4)"
   ]
  },
  {
   "cell_type": "code",
   "execution_count": null,
   "id": "52a2749f",
   "metadata": {
    "id": "52a2749f"
   },
   "outputs": [],
   "source": [
    "#데이터 프레임 저장\n",
    "df_sunny_3.to_csv('../output/{}.csv'.format('여행'),encoding='utf-8-sig',index=False)"
   ]
  },
  {
   "cell_type": "code",
   "execution_count": null,
   "id": "7cb1f170",
   "metadata": {
    "id": "7cb1f170"
   },
   "outputs": [],
   "source": [
    "title_error_sunny = title_error_sunny_1 + title_error_sunny_2 + title_error_sunny_3\n",
    "artist_error_sunny = artist_error_sunny_1 + artist_error_sunny_2 + artist_error_sunny_3"
   ]
  },
  {
   "cell_type": "markdown",
   "id": "7be7450f",
   "metadata": {
    "id": "7be7450f"
   },
   "source": [
    "### rainy"
   ]
  },
  {
   "cell_type": "code",
   "execution_count": null,
   "id": "c738bbbb",
   "metadata": {
    "id": "c738bbbb"
   },
   "outputs": [],
   "source": [
    "df_rainy_1, title_error_rainy_1, artist_error_rainy_1 = crawling_melon_pg('비오는날', 4)"
   ]
  },
  {
   "cell_type": "code",
   "execution_count": null,
   "id": "3b3c4caf",
   "metadata": {
    "id": "3b3c4caf"
   },
   "outputs": [],
   "source": [
    "#데이터 프레임 저장\n",
    "df_rainy_1.to_csv('../output/{}.csv'.format('비오는날'),encoding='utf-8-sig',index=False)"
   ]
  },
  {
   "cell_type": "code",
   "execution_count": null,
   "id": "1a9506a2",
   "metadata": {
    "id": "1a9506a2"
   },
   "outputs": [],
   "source": [
    "df_rainy_2, title_error_rainy_2, artist_error_rainy_2 = crawling_melon_pg('장마', 4)"
   ]
  },
  {
   "cell_type": "code",
   "execution_count": null,
   "id": "44570b42",
   "metadata": {
    "id": "44570b42"
   },
   "outputs": [],
   "source": [
    "#데이터 프레임 저장\n",
    "df_rainy_2.to_csv('../output/{}.csv'.format('장마'),encoding='utf-8-sig',index=False)"
   ]
  },
  {
   "cell_type": "code",
   "execution_count": null,
   "id": "3a9c17cf",
   "metadata": {
    "id": "3a9c17cf"
   },
   "outputs": [],
   "source": [
    "df_rainy_3, title_error_rainy_3, artist_error_rainy_3 = crawling_melon_pg('여름비', 2)"
   ]
  },
  {
   "cell_type": "code",
   "execution_count": null,
   "id": "0d54f867",
   "metadata": {
    "id": "0d54f867"
   },
   "outputs": [],
   "source": [
    "#데이터 프레임 저장\n",
    "df_rainy_3.to_csv('../output/{}.csv'.format('여름비'),encoding='utf-8-sig',index=False)`"
   ]
  },
  {
   "cell_type": "code",
   "execution_count": null,
   "id": "f5243c0e",
   "metadata": {
    "id": "f5243c0e"
   },
   "outputs": [],
   "source": [
    "title_error_rainy = title_error_rainy_1 + title_error_rainy_2 + title_error_rainy_3\n",
    "artist_error_rainy = artist_error_rainy_1 + artist_error_rainy_2 + artist_error_rainy_3"
   ]
  },
  {
   "cell_type": "markdown",
   "id": "15f6d8f4",
   "metadata": {
    "id": "15f6d8f4"
   },
   "source": [
    "### foggy"
   ]
  },
  {
   "cell_type": "code",
   "execution_count": null,
   "id": "3fd85658",
   "metadata": {
    "id": "3fd85658"
   },
   "outputs": [],
   "source": [
    "df_foggy_1, title_error_foggy_1, artist_error_foggy_1 = crawling_melon_pg('안개', 1)"
   ]
  },
  {
   "cell_type": "code",
   "execution_count": null,
   "id": "0532142d",
   "metadata": {
    "id": "0532142d"
   },
   "outputs": [],
   "source": [
    "#데이터 프레임 저장\n",
    "df_foggy_1.to_csv('../output/{}.csv'.format('안개'),encoding='utf-8-sig',index=False)"
   ]
  },
  {
   "cell_type": "code",
   "execution_count": null,
   "id": "45f08c68",
   "metadata": {
    "id": "45f08c68"
   },
   "outputs": [],
   "source": [
    "df_foggy_2, title_error_foggy_2, artist_error_foggy_2 = crawling_melon_pg('미세먼지', 5)"
   ]
  },
  {
   "cell_type": "code",
   "execution_count": null,
   "id": "fb77f6aa",
   "metadata": {
    "id": "fb77f6aa"
   },
   "outputs": [],
   "source": [
    "#데이터 프레임 저장\n",
    "df_foggy_2.to_csv('../output/{}.csv'.format('미세먼지'),encoding='utf-8-sig',index=False)"
   ]
  },
  {
   "cell_type": "code",
   "execution_count": null,
   "id": "333fc87a",
   "metadata": {
    "id": "333fc87a"
   },
   "outputs": [],
   "source": [
    "df_foggy_3, title_error_foggy_3, artist_error_foggy_3 = crawling_melon_pg('흐린날', 3)"
   ]
  },
  {
   "cell_type": "code",
   "execution_count": null,
   "id": "7732cf64",
   "metadata": {
    "id": "7732cf64"
   },
   "outputs": [],
   "source": [
    "#데이터 프레임 저장\n",
    "df_foggy_3.to_csv('../output/{}.csv'.format('흐린날'),encoding='utf-8-sig',index=False)"
   ]
  },
  {
   "cell_type": "code",
   "execution_count": null,
   "id": "73b700c8",
   "metadata": {
    "id": "73b700c8"
   },
   "outputs": [],
   "source": [
    "title_error_foggy = title_error_foggy_1 + title_error_foggy_2 + title_error_foggy_3\n",
    "artist_error_foggy = artist_error_foggy_1 + artist_error_foggy_2 + artist_error_foggy_3"
   ]
  },
  {
   "cell_type": "markdown",
   "id": "611acb24",
   "metadata": {
    "id": "611acb24"
   },
   "source": [
    "### snowy"
   ]
  },
  {
   "cell_type": "code",
   "execution_count": null,
   "id": "5badb7ee",
   "metadata": {
    "id": "5badb7ee"
   },
   "outputs": [],
   "source": [
    "df_snowy_1, title_error_snowy_1, artist_error_snowy_1 = crawling_melon_pg('눈오는날', 4)"
   ]
  },
  {
   "cell_type": "code",
   "execution_count": null,
   "id": "a712e3a4",
   "metadata": {
    "id": "a712e3a4"
   },
   "outputs": [],
   "source": [
    "df_snowy_2, title_error_snowy_2, artist_error_snowy_2 = crawling_melon_pg('크리스마스', 4)"
   ]
  },
  {
   "cell_type": "code",
   "execution_count": null,
   "id": "ec402591",
   "metadata": {
    "id": "ec402591"
   },
   "outputs": [],
   "source": [
    "#데이터 프레임 저장\n",
    "df_snowy_1.to_csv('../output/{}.csv'.format('눈오는날'),encoding='utf-8-sig',index=False)"
   ]
  },
  {
   "cell_type": "code",
   "execution_count": null,
   "id": "5c73515b",
   "metadata": {
    "id": "5c73515b"
   },
   "outputs": [],
   "source": [
    "#데이터 프레임 저장\n",
    "df_snowy_2.to_csv('../output/{}.csv'.format('크리스마스'),encoding='utf-8-sig',index=False)"
   ]
  },
  {
   "cell_type": "markdown",
   "id": "3aa70645",
   "metadata": {
    "id": "3aa70645"
   },
   "source": [
    "### sunrise_sunset"
   ]
  },
  {
   "cell_type": "code",
   "execution_count": null,
   "id": "e92e5e33",
   "metadata": {
    "id": "e92e5e33"
   },
   "outputs": [],
   "source": [
    "df_sunrise_sunset_1 = crawling_melon_pg('일출', 1)"
   ]
  },
  {
   "cell_type": "code",
   "execution_count": null,
   "id": "7ab1e50e",
   "metadata": {
    "id": "7ab1e50e"
   },
   "outputs": [],
   "source": [
    "df_sunrise_sunset_2 = crawling_melon_pg('일몰', 1)"
   ]
  },
  {
   "cell_type": "code",
   "execution_count": null,
   "id": "5e1c2b4f",
   "metadata": {
    "id": "5e1c2b4f"
   },
   "outputs": [],
   "source": [
    "df_sunrise_sunset_3 = crawling_melon_pg('저녁노을', 1)"
   ]
  },
  {
   "cell_type": "code",
   "execution_count": null,
   "id": "af9332cb",
   "metadata": {
    "id": "af9332cb"
   },
   "outputs": [],
   "source": [
    "df_sunrise_sunset_4 = crawling_melon_pg('노을', 6)"
   ]
  },
  {
   "cell_type": "code",
   "execution_count": null,
   "id": "815459b0",
   "metadata": {
    "id": "815459b0"
   },
   "outputs": [],
   "source": [
    "#데이터 프레임 저장\n",
    "df_sunrise_sunset_1.to_csv('../output/{}.csv'.format('일출'),encoding='utf-8-sig',index=False)"
   ]
  },
  {
   "cell_type": "code",
   "execution_count": null,
   "id": "25ad2998",
   "metadata": {
    "id": "25ad2998"
   },
   "outputs": [],
   "source": [
    "#데이터 프레임 저장\n",
    "df_sunrise_sunset_2.to_csv('../output/{}.csv'.format('일몰'),encoding='utf-8-sig',index=False)"
   ]
  },
  {
   "cell_type": "code",
   "execution_count": null,
   "id": "be74bda3",
   "metadata": {
    "id": "be74bda3"
   },
   "outputs": [],
   "source": [
    "#데이터 프레임 저장\n",
    "df_sunrise_sunset_3.to_csv('../output/{}.csv'.format('저녁노을'),encoding='utf-8-sig',index=False)"
   ]
  },
  {
   "cell_type": "code",
   "execution_count": null,
   "id": "f6f634bd",
   "metadata": {
    "id": "f6f634bd"
   },
   "outputs": [],
   "source": [
    "#데이터 프레임 저장\n",
    "df_sunrise_sunset_4.to_csv('../output/{}.csv'.format('노을'),encoding='utf-8-sig',index=False)"
   ]
  },
  {
   "cell_type": "code",
   "execution_count": null,
   "id": "e4d24aa7",
   "metadata": {
    "id": "e4d24aa7"
   },
   "outputs": [],
   "source": [
    "# 데이터 프레임 불러오기\n",
    "df_맑은날 = pd.read_csv('../output/sunny/맑은날.csv')\n",
    "df_여행 = pd.read_csv('../output/sunny/여행.csv')\n",
    "df_화창한날 = pd.read_csv('../output/sunny/화창한날.csv')\n",
    "\n",
    "df_미세먼지 = pd.read_csv('../output/foggy/미세먼지.csv')\n",
    "df_안개 = pd.read_csv('../output/foggy/안개.csv')\n",
    "df_흐린날 = pd.read_csv('../output/foggy/흐린날.csv')\n",
    "\n",
    "df_눈오는날 = pd.read_csv('../output/snowy/눈오는날.csv')\n",
    "df_크리스마스 = pd.read_csv('../output/snowy/크리스마스.csv')\n",
    "\n",
    "df_비오는날 = pd.read_csv('../output/rainy/비오는날.csv')\n",
    "df_여름비 = pd.read_csv('../output/rainy/여름비.csv')\n",
    "df_장마 = pd.read_csv('../output/rainy/장마.csv')\n",
    "\n",
    "df_일몰 = pd.read_csv('../output/sunrise_sunset/일몰.csv')\n",
    "df_일출 = pd.read_csv('../output/sunrise_sunset/일출.csv')\n",
    "df_저녁노을 = pd.read_csv('../output/sunrise_sunset/저녁노을.csv')\n",
    "df_노을 = pd.read_csv('../output/sunrise_sunset/노을.csv')"
   ]
  },
  {
   "cell_type": "code",
   "execution_count": null,
   "id": "c6fd42f7",
   "metadata": {
    "id": "c6fd42f7"
   },
   "outputs": [],
   "source": [
    "print(len(df_맑은날), len(df_여행), len(df_화창한날))"
   ]
  },
  {
   "cell_type": "code",
   "execution_count": null,
   "id": "b1e007b1",
   "metadata": {
    "id": "b1e007b1"
   },
   "outputs": [],
   "source": [
    "print(len(df_미세먼지), len(df_안개), len(df_흐린날))"
   ]
  },
  {
   "cell_type": "code",
   "execution_count": null,
   "id": "d3d7956e",
   "metadata": {
    "id": "d3d7956e"
   },
   "outputs": [],
   "source": [
    "print(len(df_눈오는날), len(df_크리스마스))"
   ]
  },
  {
   "cell_type": "code",
   "execution_count": null,
   "id": "f6118f77",
   "metadata": {
    "id": "f6118f77"
   },
   "outputs": [],
   "source": [
    "print(len(df_비오는날), len(df_여름비), len(df_장마))"
   ]
  },
  {
   "cell_type": "code",
   "execution_count": null,
   "id": "3ca7b7f4",
   "metadata": {
    "id": "3ca7b7f4"
   },
   "outputs": [],
   "source": [
    "print(len(df_일몰), len(df_일출), len(df_저녁노을), len(df_노을))"
   ]
  }
 ],
 "metadata": {
  "colab": {
   "provenance": []
  },
  "kernelspec": {
   "display_name": "Python 3 (ipykernel)",
   "language": "python",
   "name": "python3"
  },
  "language_info": {
   "codemirror_mode": {
    "name": "ipython",
    "version": 3
   },
   "file_extension": ".py",
   "mimetype": "text/x-python",
   "name": "python",
   "nbconvert_exporter": "python",
   "pygments_lexer": "ipython3",
   "version": "3.11.3"
  }
 },
 "nbformat": 4,
 "nbformat_minor": 5
}
